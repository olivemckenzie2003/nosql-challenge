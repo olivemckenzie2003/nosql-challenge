{
 "cells": [
  {
   "cell_type": "markdown",
   "id": "9a57c4c6",
   "metadata": {},
   "source": [
    "# Eat Safe, Love"
   ]
  },
  {
   "cell_type": "markdown",
   "id": "064ef857",
   "metadata": {},
   "source": [
    "## Part 1: Database and Jupyter Notebook Set Up"
   ]
  },
  {
   "cell_type": "markdown",
   "id": "664e3c1f",
   "metadata": {},
   "source": [
    "Import the data provided in the `establishments.json` file from your Terminal. Name the database `uk_food` and the collection `establishments`.\n",
    "\n",
    "Within this markdown cell, copy the line of text you used to import the data from your Terminal. This way, future analysts will be able to repeat your process.\n",
    "\n",
    "e.g.: Import the dataset with `YOUR IMPORT TEXT HERE`"
   ]
  },
  {
   "cell_type": "code",
   "execution_count": 1,
   "id": "3ecdd008",
   "metadata": {},
   "outputs": [],
   "source": [
    "#establishments.delete_one(post)\n",
    "\n",
    "# Import dependencies\n",
    "# mongoimport --type json -d uk_food -c establishments --drop --jsonArray establishments.json\n",
    "from pymongo import MongoClient\n",
    "import json\n",
    "import requests \n",
    "from pprint import pprint\n",
    "from sqlalchemy import create_engine, Column, Integer, String, ForeignKey, Float\n",
    "from sqlalchemy.ext.declarative import declarative_base\n",
    "Base = declarative_base()"
   ]
  },
  {
   "cell_type": "code",
   "execution_count": 2,
   "id": "59390c4a",
   "metadata": {},
   "outputs": [],
   "source": [
    "# Create an instance of MongoClient\n",
    "mongo = MongoClient(port=27017)"
   ]
  },
  {
   "cell_type": "code",
   "execution_count": 3,
   "id": "7f9ececa",
   "metadata": {},
   "outputs": [
    {
     "name": "stdout",
     "output_type": "stream",
     "text": [
      "['admin', 'autosaurus', 'config', 'local', 'met', 'test', 'uk_food']\n"
     ]
    }
   ],
   "source": [
    "# confirm that our new database was created\n",
    "print(mongo.list_database_names())"
   ]
  },
  {
   "cell_type": "code",
   "execution_count": 4,
   "id": "71e373c1",
   "metadata": {},
   "outputs": [],
   "source": [
    "# assign the uk_food database to a variable name\n",
    "db = mongo['uk_food']"
   ]
  },
  {
   "cell_type": "code",
   "execution_count": 5,
   "id": "ef1b89ed",
   "metadata": {},
   "outputs": [
    {
     "name": "stdout",
     "output_type": "stream",
     "text": [
      "['establishments']\n"
     ]
    }
   ],
   "source": [
    "# review the collections in our new database\n",
    "print(db.list_collection_names())"
   ]
  },
  {
   "cell_type": "code",
   "execution_count": 6,
   "id": "18ab463c",
   "metadata": {},
   "outputs": [],
   "source": [
    "# review the collections in our new database\n",
    "#(base)\n",
    "#Olive@DESKTOP-D9INLA1 MINGW64 /d/nosql-challenge/Starter_Code (3)/Starter_Code/Resources\n",
    "#$ mongoimport --type json -d uk_food -c establishments --drop --jsonArray establishments.json\n",
    "#2023-01-23T23:24:54.500+0000    connected to: mongodb://localhost/\n",
    "#2023-01-23T23:24:54.506+0000    dropping: uk_food.establishments\n",
    "#2023-01-23T23:24:57.505+0000    [........................] uk_food.establishments       33.8KB/39.3MB (0.1%)\n",
    "#2023-01-23T23:24:58.735+0000    [########################] uk_food.establishments       39.3MB/39.3MB (100.0%)\n",
    "#2023-01-23T23:24:58.736+0000    39779 document(s) imported successfully. 0 document(s) failed to import.\n",
    "#(base)\n",
    "\n",
    "#uk_food> db.establishments.countDocuments({})\n",
    "#39779"
   ]
  },
  {
   "cell_type": "code",
   "execution_count": 7,
   "id": "6a0d92df",
   "metadata": {
    "scrolled": false
   },
   "outputs": [
    {
     "name": "stdout",
     "output_type": "stream",
     "text": [
      "{'AddressLine1': 'Wear Bay Road',\n",
      " 'AddressLine2': 'Folkestone',\n",
      " 'AddressLine3': 'Kent',\n",
      " 'AddressLine4': '',\n",
      " 'BusinessName': 'Wear Bay Bowls Club',\n",
      " 'BusinessType': 'Pub/bar/nightclub',\n",
      " 'BusinessTypeID': 7843,\n",
      " 'ChangesByServerID': 0,\n",
      " 'Distance': 4591.821311183521,\n",
      " 'FHRSID': 647177,\n",
      " 'LocalAuthorityBusinessID': 'PI/000041489',\n",
      " 'LocalAuthorityCode': '188',\n",
      " 'LocalAuthorityEmailAddress': 'foodteam@folkestone-hythe.gov.uk',\n",
      " 'LocalAuthorityName': 'Folkestone and Hythe',\n",
      " 'LocalAuthorityWebSite': 'http://www.folkestone-hythe.gov.uk',\n",
      " 'NewRatingPending': False,\n",
      " 'Phone': '',\n",
      " 'PostCode': 'CT19 6PY',\n",
      " 'RatingDate': '2014-03-31T00:00:00',\n",
      " 'RatingKey': 'fhrs_4_en-gb',\n",
      " 'RatingValue': '4',\n",
      " 'RightToReply': '',\n",
      " 'SchemeType': 'FHRS',\n",
      " '_id': ObjectId('63cf174958512d07220c84a4'),\n",
      " 'geocode': {'latitude': 51.086058, 'longitude': 1.196408},\n",
      " 'links': [{'href': 'https://api.ratings.food.gov.uk/establishments/647177',\n",
      "            'rel': 'self'}],\n",
      " 'meta': {'dataSource': None,\n",
      "          'extractDate': '0001-01-01T00:00:00',\n",
      "          'itemCount': 0,\n",
      "          'pageNumber': 0,\n",
      "          'pageSize': 0,\n",
      "          'returncode': None,\n",
      "          'totalCount': 0,\n",
      "          'totalPages': 0},\n",
      " 'scores': {'ConfidenceInManagement': 10, 'Hygiene': 5, 'Structural': 5}}\n"
     ]
    }
   ],
   "source": [
    "# review a document in the establishments collection\n",
    "pprint(db.establishments.find_one())\n"
   ]
  },
  {
   "cell_type": "code",
   "execution_count": 8,
   "id": "11c9f11b",
   "metadata": {},
   "outputs": [],
   "source": [
    "# assign the collection to a variable\n",
    "establishments = db['establishments']"
   ]
  },
  {
   "cell_type": "markdown",
   "id": "d5671434",
   "metadata": {},
   "source": [
    "## Part 2: Update the Database"
   ]
  },
  {
   "cell_type": "markdown",
   "id": "314bd884",
   "metadata": {},
   "source": [
    "1. An exciting new halal restaurant just opened in Greenwich, but hasn't been rated yet. The magazine has asked you to include it in your analysis. Add the following restaurant \"Penang Flavours\" to the database."
   ]
  },
  {
   "cell_type": "code",
   "execution_count": 9,
   "id": "c2da7648",
   "metadata": {},
   "outputs": [],
   "source": [
    "# Create a dictionary for the new restaurant data\n",
    "post={\n",
    "    \"BusinessName\":\"Penang Flavours\",\n",
    "    \"BusinessType\":\"Restaurant/Cafe/Canteen\",\n",
    "    \"BusinessTypeID\":\"\",\n",
    "    \"AddressLine1\":\"Penang Flavours\",\n",
    "    \"AddressLine2\":\"146A Plumstead Rd\",\n",
    "    \"AddressLine3\":\"London\",\n",
    "    \"AddressLine4\":\"\",\n",
    "    \"PostCode\":\"SE18 7DY\",\n",
    "    \"Phone\":\"\",\n",
    "    \"LocalAuthorityCode\":\"511\",\n",
    "    \"LocalAuthorityName\":\"Greenwich\",\n",
    "    \"LocalAuthorityWebSite\":\"http://www.royalgreenwich.gov.uk\",\n",
    "    \"LocalAuthorityEmailAddress\":\"health@royalgreenwich.gov.uk\",\n",
    "    \"scores\":{\n",
    "        \"Hygiene\":\"\",\n",
    "        \"Structural\":\"\",\n",
    "        \"ConfidenceInManagement\":\"\"\n",
    "    },\n",
    "    \"SchemeType\":\"FHRS\",\n",
    "    \"geocode\":{\n",
    "        \"longitude\":\"0.08384000\",\n",
    "        \"latitude\":\"51.49014200\"\n",
    "    },\n",
    "    \"RightToReply\":\"\",\n",
    "    \"Distance\":4623.9723280747176,\n",
    "    \"NewRatingPending\":True\n",
    "}\n",
    "\n",
    "\n",
    "# Insert the document into the database\n",
    "# The database and collection, if they don't already exist, will be created at this point."
   ]
  },
  {
   "cell_type": "code",
   "execution_count": 10,
   "id": "a6e5cece",
   "metadata": {},
   "outputs": [
    {
     "data": {
      "text/plain": [
       "<pymongo.results.InsertOneResult at 0x2839fca0ac0>"
      ]
     },
     "execution_count": 10,
     "metadata": {},
     "output_type": "execute_result"
    }
   ],
   "source": [
    "# Insert the document into the database\n",
    "# The database and collection, if they don't already exist, will be created at this point.\n",
    "# Insert the new restaurant into the collection\n",
    "establishments.insert_one(post)"
   ]
  },
  {
   "cell_type": "code",
   "execution_count": 11,
   "id": "63bb10f9",
   "metadata": {
    "scrolled": false
   },
   "outputs": [
    {
     "name": "stdout",
     "output_type": "stream",
     "text": [
      "{'_id': ObjectId('63cf1b2ad6cccc40cdf55d31'), 'BusinessName': 'Penang Flavours', 'BusinessType': 'Restaurant/Cafe/Canteen', 'BusinessTypeID': 1, 'AddressLine1': 'Penang Flavours', 'AddressLine2': '146A Plumstead Rd', 'AddressLine3': 'London', 'AddressLine4': '', 'PostCode': 'SE18 7DY', 'Phone': '', 'LocalAuthorityCode': '511', 'LocalAuthorityName': 'Greenwich', 'LocalAuthorityWebSite': 'http://www.royalgreenwich.gov.uk', 'LocalAuthorityEmailAddress': 'health@royalgreenwich.gov.uk', 'scores': {'Hygiene': '', 'Structural': '', 'ConfidenceInManagement': ''}, 'SchemeType': 'FHRS', 'geocode': {'longitude': 0.08384, 'latitude': 51.490142}, 'RightToReply': '', 'Distance': 4623.972328074718, 'NewRatingPending': True}\n",
      "{'_id': ObjectId('63d404d5cde905d7f00ff29a'), 'BusinessName': 'Penang Flavours', 'BusinessType': 'Restaurant/Cafe/Canteen', 'BusinessTypeID': '', 'AddressLine1': 'Penang Flavours', 'AddressLine2': '146A Plumstead Rd', 'AddressLine3': 'London', 'AddressLine4': '', 'PostCode': 'SE18 7DY', 'Phone': '', 'LocalAuthorityCode': '511', 'LocalAuthorityName': 'Greenwich', 'LocalAuthorityWebSite': 'http://www.royalgreenwich.gov.uk', 'LocalAuthorityEmailAddress': 'health@royalgreenwich.gov.uk', 'scores': {'Hygiene': '', 'Structural': '', 'ConfidenceInManagement': ''}, 'SchemeType': 'FHRS', 'geocode': {'longitude': '0.08384000', 'latitude': '51.49014200'}, 'RightToReply': '', 'Distance': 4623.972328074718, 'NewRatingPending': True}\n"
     ]
    }
   ],
   "source": [
    "# Check that the new restaurant was inserted\n",
    "# Filter results by name\n",
    "query = {'BusinessName': 'Penang Flavours'}\n",
    "results = establishments.find(query)\n",
    "for result in results:\n",
    "    print(result)"
   ]
  },
  {
   "cell_type": "markdown",
   "id": "0ef4395a",
   "metadata": {},
   "source": [
    "2. Find the BusinessTypeID for \"Restaurant/Cafe/Canteen\" and return only the `BusinessTypeID` and `BusinessType` fields."
   ]
  },
  {
   "cell_type": "code",
   "execution_count": 12,
   "id": "93c63829",
   "metadata": {
    "scrolled": true
   },
   "outputs": [
    {
     "name": "stdout",
     "output_type": "stream",
     "text": [
      "{'BusinessType': 'Restaurant/Cafe/Canteen',\n",
      " 'BusinessTypeID': 1,\n",
      " '_id': ObjectId('63cf174958512d07220c84a5')}\n",
      "{'BusinessType': 'Restaurant/Cafe/Canteen',\n",
      " 'BusinessTypeID': 1,\n",
      " '_id': ObjectId('63cf174958512d07220c84a9')}\n",
      "{'BusinessType': 'Restaurant/Cafe/Canteen',\n",
      " 'BusinessTypeID': 1,\n",
      " '_id': ObjectId('63cf174958512d07220c84ae')}\n"
     ]
    }
   ],
   "source": [
    "# Find the BusinessTypeID for \"Restaurant/Cafe/Canteen\" and return only the BusinessTypeID and BusinessType fields\n",
    "\n",
    "query = {'BusinessType':'Restaurant/Cafe/Canteen'}\n",
    "fields = {'BusinessType': 1, 'BusinessTypeID': 1}\n",
    "\n",
    "# Capture the results to a variable\n",
    "results = establishments.find(query, fields)\n",
    "\n",
    "# Pretty print the first three results\n",
    "for i in range(3):\n",
    "    pprint(results[i])\n"
   ]
  },
  {
   "cell_type": "markdown",
   "id": "4e570caf",
   "metadata": {},
   "source": [
    "3. Update the new restaurant with the `BusinessTypeID` you found."
   ]
  },
  {
   "cell_type": "code",
   "execution_count": 13,
   "id": "7f599f3d",
   "metadata": {},
   "outputs": [
    {
     "data": {
      "text/plain": [
       "<pymongo.results.UpdateResult at 0x283a21ebc10>"
      ]
     },
     "execution_count": 13,
     "metadata": {},
     "output_type": "execute_result"
    }
   ],
   "source": [
    "# Update the new restaurant with the correct BusinessTypeID\n",
    "\n",
    "\n",
    "db.establishments.update_one(\n",
    "    {\"BusinessName\":\"Penang Flavours\"},\n",
    "    {'$set':\n",
    "        {'BusinessTypeID': 1}\n",
    "     })"
   ]
  },
  {
   "cell_type": "code",
   "execution_count": 14,
   "id": "a6ad16f7",
   "metadata": {},
   "outputs": [
    {
     "name": "stdout",
     "output_type": "stream",
     "text": [
      "{'_id': ObjectId('63cf1b2ad6cccc40cdf55d31'), 'BusinessName': 'Penang Flavours', 'BusinessType': 'Restaurant/Cafe/Canteen', 'BusinessTypeID': 1, 'AddressLine1': 'Penang Flavours', 'AddressLine2': '146A Plumstead Rd', 'AddressLine3': 'London', 'AddressLine4': '', 'PostCode': 'SE18 7DY', 'Phone': '', 'LocalAuthorityCode': '511', 'LocalAuthorityName': 'Greenwich', 'LocalAuthorityWebSite': 'http://www.royalgreenwich.gov.uk', 'LocalAuthorityEmailAddress': 'health@royalgreenwich.gov.uk', 'scores': {'Hygiene': '', 'Structural': '', 'ConfidenceInManagement': ''}, 'SchemeType': 'FHRS', 'geocode': {'longitude': 0.08384, 'latitude': 51.490142}, 'RightToReply': '', 'Distance': 4623.972328074718, 'NewRatingPending': True}\n",
      "{'_id': ObjectId('63d404d5cde905d7f00ff29a'), 'BusinessName': 'Penang Flavours', 'BusinessType': 'Restaurant/Cafe/Canteen', 'BusinessTypeID': '', 'AddressLine1': 'Penang Flavours', 'AddressLine2': '146A Plumstead Rd', 'AddressLine3': 'London', 'AddressLine4': '', 'PostCode': 'SE18 7DY', 'Phone': '', 'LocalAuthorityCode': '511', 'LocalAuthorityName': 'Greenwich', 'LocalAuthorityWebSite': 'http://www.royalgreenwich.gov.uk', 'LocalAuthorityEmailAddress': 'health@royalgreenwich.gov.uk', 'scores': {'Hygiene': '', 'Structural': '', 'ConfidenceInManagement': ''}, 'SchemeType': 'FHRS', 'geocode': {'longitude': '0.08384000', 'latitude': '51.49014200'}, 'RightToReply': '', 'Distance': 4623.972328074718, 'NewRatingPending': True}\n"
     ]
    }
   ],
   "source": [
    "# Confirm that the new restaurant was updated\n",
    "query = {'BusinessName': 'Penang Flavours'}\n",
    "results = establishments.find(query)\n",
    "for result in results:\n",
    "    print(result)\n"
   ]
  },
  {
   "cell_type": "markdown",
   "id": "67281254",
   "metadata": {},
   "source": [
    "4. The magazine is not interested in any establishments in Dover, so check how many documents contain the Dover Local Authority. Then, remove any establishments within the Dover Local Authority from the database, and check the number of documents to ensure they were deleted."
   ]
  },
  {
   "cell_type": "code",
   "execution_count": 15,
   "id": "768474a6",
   "metadata": {},
   "outputs": [
    {
     "name": "stdout",
     "output_type": "stream",
     "text": [
      "Number of documents in result: 0\n"
     ]
    }
   ],
   "source": [
    "# Find how many documents have LocalAuthorityName as \"Dover\"\n",
    "query = {\"LocalAuthorityName\":\"Dover\"}\n",
    "\n",
    "# Use count_documents to display the number of documents in the result\n",
    "print(\"Number of documents in result:\", establishments.count_documents(query))\n",
    "\n",
    "\n",
    "\n"
   ]
  },
  {
   "cell_type": "code",
   "execution_count": 16,
   "id": "a11d5f1b",
   "metadata": {},
   "outputs": [
    {
     "data": {
      "text/plain": [
       "<pymongo.results.DeleteResult at 0x283a21d7e20>"
      ]
     },
     "execution_count": 16,
     "metadata": {},
     "output_type": "execute_result"
    }
   ],
   "source": [
    "# Delete all documents where LocalAuthorityName is \"Dover\"\n",
    "\n",
    "\n",
    "db.establishments.delete_many(\n",
    "    {\"LocalAuthorityName\":\"Dover\"}\n",
    ")\n",
    "\n"
   ]
  },
  {
   "cell_type": "code",
   "execution_count": 17,
   "id": "2a51aba0",
   "metadata": {},
   "outputs": [
    {
     "name": "stdout",
     "output_type": "stream",
     "text": [
      "Number of documents in result: 0\n"
     ]
    }
   ],
   "source": [
    "# Check if any remaining documents include Dover\n",
    "# Find how many documents have LocalAuthorityName as \"Dover\"\n",
    "query = {\"LocalAuthorityName\":\"Dover\"}\n",
    "\n",
    "# Use count_documents to display the number of documents in the result\n",
    "print(\"Number of documents in result:\", establishments.count_documents(query))\n",
    "\n",
    "#Number of documents in result: 995 deleted one to test code\n"
   ]
  },
  {
   "cell_type": "code",
   "execution_count": 18,
   "id": "8c356f7b",
   "metadata": {
    "scrolled": false
   },
   "outputs": [
    {
     "name": "stdout",
     "output_type": "stream",
     "text": [
      "{'AddressLine1': 'Wear Bay Road',\n",
      " 'AddressLine2': 'Folkestone',\n",
      " 'AddressLine3': 'Kent',\n",
      " 'AddressLine4': '',\n",
      " 'BusinessName': 'Wear Bay Bowls Club',\n",
      " 'BusinessType': 'Pub/bar/nightclub',\n",
      " 'BusinessTypeID': 7843,\n",
      " 'ChangesByServerID': 0,\n",
      " 'Distance': 4591.821311183521,\n",
      " 'FHRSID': 647177,\n",
      " 'LocalAuthorityBusinessID': 'PI/000041489',\n",
      " 'LocalAuthorityCode': '188',\n",
      " 'LocalAuthorityEmailAddress': 'foodteam@folkestone-hythe.gov.uk',\n",
      " 'LocalAuthorityName': 'Folkestone and Hythe',\n",
      " 'LocalAuthorityWebSite': 'http://www.folkestone-hythe.gov.uk',\n",
      " 'NewRatingPending': False,\n",
      " 'Phone': '',\n",
      " 'PostCode': 'CT19 6PY',\n",
      " 'RatingDate': '2014-03-31T00:00:00',\n",
      " 'RatingKey': 'fhrs_4_en-gb',\n",
      " 'RatingValue': '4',\n",
      " 'RightToReply': '',\n",
      " 'SchemeType': 'FHRS',\n",
      " '_id': ObjectId('63cf174958512d07220c84a4'),\n",
      " 'geocode': {'latitude': 51.086058, 'longitude': 1.196408},\n",
      " 'links': [{'href': 'https://api.ratings.food.gov.uk/establishments/647177',\n",
      "            'rel': 'self'}],\n",
      " 'meta': {'dataSource': None,\n",
      "          'extractDate': '0001-01-01T00:00:00',\n",
      "          'itemCount': 0,\n",
      "          'pageNumber': 0,\n",
      "          'pageSize': 0,\n",
      "          'returncode': None,\n",
      "          'totalCount': 0,\n",
      "          'totalPages': 0},\n",
      " 'scores': {'ConfidenceInManagement': 10, 'Hygiene': 5, 'Structural': 5}}\n"
     ]
    }
   ],
   "source": [
    "# Check that other documents remain with 'find_one'\n",
    "pprint(db.establishments.find_one())"
   ]
  },
  {
   "cell_type": "markdown",
   "id": "e9f1662d",
   "metadata": {},
   "source": [
    "5. Some of the number values are stored as strings, when they should be stored as numbers. Use `update_many` to convert `latitude` and `longitude` to decimal numbers."
   ]
  },
  {
   "cell_type": "code",
   "execution_count": 19,
   "id": "fd4112ce",
   "metadata": {},
   "outputs": [
    {
     "data": {
      "text/plain": [
       "<pymongo.results.UpdateResult at 0x283a2220820>"
      ]
     },
     "execution_count": 19,
     "metadata": {},
     "output_type": "execute_result"
    }
   ],
   "source": [
    "# Change the data type from String to Decimal for longitude\n",
    "db.establishments.update_many({}, [ {'$set':{ \"geocode.longitude\" : {'$toDouble': \"$geocode.longitude\"}}} ])\n",
    "\n",
    "\n",
    "\n",
    "\n"
   ]
  },
  {
   "cell_type": "code",
   "execution_count": 20,
   "id": "08dd7c72",
   "metadata": {},
   "outputs": [
    {
     "data": {
      "text/plain": [
       "<pymongo.results.UpdateResult at 0x283a2220220>"
      ]
     },
     "execution_count": 20,
     "metadata": {},
     "output_type": "execute_result"
    }
   ],
   "source": [
    "# Change the data type from String to Decimal for latitude\n",
    "\n",
    "establishments.update_many({}, [ {'$set':{ \"geocode.latitude\" : {'$toDouble': \"$geocode.latitude\"}} } ])"
   ]
  },
  {
   "cell_type": "code",
   "execution_count": 21,
   "id": "0deacaf9",
   "metadata": {},
   "outputs": [
    {
     "name": "stdout",
     "output_type": "stream",
     "text": [
      "{'AddressLine1': 'Wear Bay Road',\n",
      " 'AddressLine2': 'Folkestone',\n",
      " 'AddressLine3': 'Kent',\n",
      " 'AddressLine4': '',\n",
      " 'BusinessName': 'Wear Bay Bowls Club',\n",
      " 'BusinessType': 'Pub/bar/nightclub',\n",
      " 'BusinessTypeID': 7843,\n",
      " 'ChangesByServerID': 0,\n",
      " 'Distance': 4591.821311183521,\n",
      " 'FHRSID': 647177,\n",
      " 'LocalAuthorityBusinessID': 'PI/000041489',\n",
      " 'LocalAuthorityCode': '188',\n",
      " 'LocalAuthorityEmailAddress': 'foodteam@folkestone-hythe.gov.uk',\n",
      " 'LocalAuthorityName': 'Folkestone and Hythe',\n",
      " 'LocalAuthorityWebSite': 'http://www.folkestone-hythe.gov.uk',\n",
      " 'NewRatingPending': False,\n",
      " 'Phone': '',\n",
      " 'PostCode': 'CT19 6PY',\n",
      " 'RatingDate': '2014-03-31T00:00:00',\n",
      " 'RatingKey': 'fhrs_4_en-gb',\n",
      " 'RatingValue': '4',\n",
      " 'RightToReply': '',\n",
      " 'SchemeType': 'FHRS',\n",
      " '_id': ObjectId('63cf174958512d07220c84a4'),\n",
      " 'geocode': {'latitude': 51.086058, 'longitude': 1.196408},\n",
      " 'links': [{'href': 'https://api.ratings.food.gov.uk/establishments/647177',\n",
      "            'rel': 'self'}],\n",
      " 'meta': {'dataSource': None,\n",
      "          'extractDate': '0001-01-01T00:00:00',\n",
      "          'itemCount': 0,\n",
      "          'pageNumber': 0,\n",
      "          'pageSize': 0,\n",
      "          'returncode': None,\n",
      "          'totalCount': 0,\n",
      "          'totalPages': 0},\n",
      " 'scores': {'ConfidenceInManagement': 10, 'Hygiene': 5, 'Structural': 5}}\n"
     ]
    }
   ],
   "source": [
    "# Check that the coordinates are now numbers\n",
    "pprint(db.establishments.find_one())"
   ]
  },
  {
   "cell_type": "code",
   "execution_count": null,
   "id": "92fbd57b",
   "metadata": {},
   "outputs": [],
   "source": []
  },
  {
   "cell_type": "code",
   "execution_count": null,
   "id": "e403a050",
   "metadata": {},
   "outputs": [],
   "source": []
  }
 ],
 "metadata": {
  "kernelspec": {
   "display_name": "Python 3 (ipykernel)",
   "language": "python",
   "name": "python3"
  },
  "language_info": {
   "codemirror_mode": {
    "name": "ipython",
    "version": 3
   },
   "file_extension": ".py",
   "mimetype": "text/x-python",
   "name": "python",
   "nbconvert_exporter": "python",
   "pygments_lexer": "ipython3",
   "version": "3.9.12"
  }
 },
 "nbformat": 4,
 "nbformat_minor": 5
}
